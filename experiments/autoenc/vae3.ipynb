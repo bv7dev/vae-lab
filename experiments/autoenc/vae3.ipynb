{
 "cells": [
  {
   "cell_type": "code",
   "execution_count": 1,
   "metadata": {},
   "outputs": [],
   "source": [
    "import torch\n",
    "import torch.nn as nn\n",
    "import torch.optim as optim\n",
    "import torch.utils.data as data\n",
    "import matplotlib.pyplot as plt\n",
    "\n",
    "from torchvision import datasets, transforms\n",
    "from sklearn.manifold import TSNE"
   ]
  },
  {
   "cell_type": "code",
   "execution_count": 39,
   "metadata": {},
   "outputs": [],
   "source": [
    "latent_dim = 2\n",
    "num_epochs = 16"
   ]
  },
  {
   "cell_type": "code",
   "execution_count": 40,
   "metadata": {},
   "outputs": [
    {
     "name": "stdout",
     "output_type": "stream",
     "text": [
      "512\n"
     ]
    }
   ],
   "source": [
    "def max_pow2_smaller_x(x):\n",
    "    return 1 << (x.bit_length() - 1)\n",
    "\n",
    "print(max_pow2_smaller_x(784))"
   ]
  },
  {
   "cell_type": "code",
   "execution_count": 43,
   "metadata": {},
   "outputs": [],
   "source": [
    "\n",
    "# VAE Model\n",
    "class VAE(nn.Module):\n",
    "    def __init__(self):\n",
    "        super(VAE, self).__init__()\n",
    "        # Encoder\n",
    "        # self.encoder = nn.Sequential(\n",
    "        #     nn.Linear(28 * 28, 768),\n",
    "        #     nn.LeakyReLU(),\n",
    "        #     nn.Linear(768, 512),\n",
    "        #     nn.LeakyReLU(),\n",
    "        #     nn.Linear(512, 256),\n",
    "        #     nn.LeakyReLU(),\n",
    "        #     nn.Linear(256, 128),\n",
    "        #     nn.LeakyReLU(),\n",
    "        # )\n",
    "        self.max_layer_count = 20\n",
    "        self.input_width = 28 * 28\n",
    "\n",
    "        hidden_width = max_pow2_smaller_x(self.input_width)\n",
    "\n",
    "        self.encoder = nn.Sequential()\n",
    "        self.encoder.add_module(\"lin_in\", nn.Linear(self.input_width, hidden_width))\n",
    "        self.encoder.add_module(f\"relu_in\", nn.LeakyReLU())\n",
    "\n",
    "        for i in range(self.max_layer_count):\n",
    "            print(i, hidden_width)\n",
    "            if (hidden_width >> 1) <= latent_dim:\n",
    "                break\n",
    "            self.encoder.add_module(f\"lin_h{i}\", nn.Linear(hidden_width, hidden_width >> 1))\n",
    "            self.encoder.add_module(f\"relu_h{i}\", nn.LeakyReLU())\n",
    "            hidden_width = hidden_width >> 1\n",
    "\n",
    "        print(self.encoder)\n",
    "        \n",
    "        self.fc_mu = nn.Linear(hidden_width, latent_dim)  # Mean of latent space\n",
    "        self.fc_log_var = nn.Linear(hidden_width, latent_dim)  # Log-variance of latent space\n",
    "\n",
    "        print(self.fc_mu)\n",
    "        print(self.fc_log_var)\n",
    "\n",
    "        # Decoder\n",
    "        self.decoder = nn.Sequential(\n",
    "            nn.Linear(latent_dim, 128),\n",
    "            nn.LeakyReLU(),\n",
    "            nn.Linear(128, 256),\n",
    "            nn.LeakyReLU(),\n",
    "            nn.Linear(256, 512),\n",
    "            nn.LeakyReLU(),\n",
    "            nn.Linear(512, 768),\n",
    "            nn.LeakyReLU(),\n",
    "            nn.Linear(768, 784),\n",
    "            nn.Sigmoid()\n",
    "        )\n",
    "\n",
    "    def reparameterize(self, mu, log_var):\n",
    "        std = torch.exp(0.5 * log_var)\n",
    "        eps = torch.randn_like(std)  # Sample epsilon from standard normal\n",
    "        return mu + eps * std\n",
    "\n",
    "    def forward(self, x):\n",
    "        # Encode\n",
    "        x = self.encoder(x)\n",
    "        mu = self.fc_mu(x)\n",
    "        log_var = self.fc_log_var(x)\n",
    "\n",
    "        # Reparameterize\n",
    "        z = self.reparameterize(mu, log_var)\n",
    "\n",
    "        # Decode\n",
    "        x_reconstructed = self.decoder(z)\n",
    "        return x_reconstructed, mu, log_var\n",
    "\n",
    "\n",
    "# Loss function (Reconstruction + KL Divergence)\n",
    "def vae_loss(reconstructed, original, mu, log_var):\n",
    "    # Reconstruction loss\n",
    "    recon_loss = nn.MSELoss(reduction='sum')(reconstructed, original)\n",
    "\n",
    "    # KL divergence loss\n",
    "    kl_loss = -0.5 * torch.sum(1 + log_var - mu.pow(2) - log_var.exp())\n",
    "\n",
    "    return recon_loss + kl_loss"
   ]
  },
  {
   "cell_type": "code",
   "execution_count": 44,
   "metadata": {},
   "outputs": [
    {
     "name": "stdout",
     "output_type": "stream",
     "text": [
      "Using device: cuda\n",
      "0 512\n",
      "1 256\n",
      "2 128\n",
      "3 64\n",
      "4 32\n",
      "5 16\n",
      "6 8\n",
      "7 4\n",
      "Sequential(\n",
      "  (lin_in): Linear(in_features=784, out_features=512, bias=True)\n",
      "  (relu_in): LeakyReLU(negative_slope=0.01)\n",
      "  (lin_h0): Linear(in_features=512, out_features=256, bias=True)\n",
      "  (relu_h0): LeakyReLU(negative_slope=0.01)\n",
      "  (lin_h1): Linear(in_features=256, out_features=128, bias=True)\n",
      "  (relu_h1): LeakyReLU(negative_slope=0.01)\n",
      "  (lin_h2): Linear(in_features=128, out_features=64, bias=True)\n",
      "  (relu_h2): LeakyReLU(negative_slope=0.01)\n",
      "  (lin_h3): Linear(in_features=64, out_features=32, bias=True)\n",
      "  (relu_h3): LeakyReLU(negative_slope=0.01)\n",
      "  (lin_h4): Linear(in_features=32, out_features=16, bias=True)\n",
      "  (relu_h4): LeakyReLU(negative_slope=0.01)\n",
      "  (lin_h5): Linear(in_features=16, out_features=8, bias=True)\n",
      "  (relu_h5): LeakyReLU(negative_slope=0.01)\n",
      "  (lin_h6): Linear(in_features=8, out_features=4, bias=True)\n",
      "  (relu_h6): LeakyReLU(negative_slope=0.01)\n",
      ")\n",
      "Linear(in_features=4, out_features=2, bias=True)\n",
      "Linear(in_features=4, out_features=2, bias=True)\n"
     ]
    }
   ],
   "source": [
    "# Define a transformation pipeline\n",
    "transform = transforms.Compose([\n",
    "    transforms.ToTensor(),               # Convert input to tensor in [0, 1]\n",
    "])\n",
    "train_dataset = datasets.MNIST(root='./data', train=True, transform=transform, download=True)\n",
    "train_loader = data.DataLoader(train_dataset, batch_size=256, shuffle=True)\n",
    "\n",
    "# Check for GPU availability\n",
    "device = torch.device(\"cuda\" if torch.cuda.is_available() else \"cpu\")\n",
    "print(f\"Using device: {device}\")\n",
    "\n",
    "# Model, optimizer, and training setup\n",
    "model = VAE().to(device)\n",
    "optimizer = optim.Adam(model.parameters(), lr=0.0007)"
   ]
  },
  {
   "cell_type": "code",
   "execution_count": 45,
   "metadata": {},
   "outputs": [
    {
     "name": "stdout",
     "output_type": "stream",
     "text": [
      "Epoch [1/16], Loss: 3327268.22\n",
      "Epoch [2/16], Loss: 2826902.71\n",
      "Epoch [3/16], Loss: 2711842.02\n",
      "Epoch [4/16], Loss: 2634642.98\n",
      "Epoch [5/16], Loss: 2565339.30\n",
      "Epoch [6/16], Loss: 2520209.23\n",
      "Epoch [7/16], Loss: 2452253.81\n",
      "Epoch [8/16], Loss: 2424166.83\n",
      "Epoch [9/16], Loss: 2377635.32\n",
      "Epoch [10/16], Loss: 2354953.06\n",
      "Epoch [11/16], Loss: 2333381.19\n",
      "Epoch [12/16], Loss: 2307237.72\n",
      "Epoch [13/16], Loss: 2277472.54\n",
      "Epoch [14/16], Loss: 2255475.84\n",
      "Epoch [15/16], Loss: 2238731.23\n",
      "Epoch [16/16], Loss: 2214837.94\n"
     ]
    }
   ],
   "source": [
    "# Training loop\n",
    "for epoch in range(num_epochs):\n",
    "    model.train()\n",
    "    total_loss = 0\n",
    "\n",
    "    for images, _ in train_loader:\n",
    "        images = images.view(images.size(0), -1)\n",
    "        images = images.to(device)\n",
    "\n",
    "        # Forward pass\n",
    "        reconstructed, mu, log_var = model(images)\n",
    "        loss = vae_loss(reconstructed, images, mu, log_var)\n",
    "\n",
    "        # Backward pass\n",
    "        optimizer.zero_grad()\n",
    "        loss.backward()\n",
    "        optimizer.step()\n",
    "\n",
    "        total_loss += loss.item()\n",
    "\n",
    "    print(f\"Epoch [{epoch+1}/{num_epochs}], Loss: {total_loss:.2f}\")"
   ]
  },
  {
   "cell_type": "code",
   "execution_count": 46,
   "metadata": {},
   "outputs": [
    {
     "data": {
      "image/png": "[encoded data removed]",
      "text/plain": [
       "<Figure size 1500x400 with 20 Axes>"
      ]
     },
     "metadata": {},
     "output_type": "display_data"
    }
   ],
   "source": [
    "# Visualize reconstructions\n",
    "model.eval()\n",
    "test_loader = data.DataLoader(train_dataset, batch_size=10, shuffle=True)\n",
    "test_images, _ = next(iter(test_loader))\n",
    "test_images_flat = test_images.view(test_images.size(0), -1).to(device)\n",
    "\n",
    "with torch.no_grad():\n",
    "    reconstructed, _, _ = model(test_images_flat)\n",
    "\n",
    "# Reshape for visualization\n",
    "test_images = test_images.cpu().numpy()\n",
    "reconstructed = reconstructed.view(-1, 1, 28, 28).cpu().numpy()\n",
    "\n",
    "# Plot original and reconstructed images\n",
    "fig, axes = plt.subplots(2, 10, figsize=(15, 4))\n",
    "for i in range(10):\n",
    "    # Original images\n",
    "    axes[0, i].imshow(test_images[i][0])\n",
    "    axes[0, i].axis('off')\n",
    "    # Reconstructed images\n",
    "    axes[1, i].imshow(reconstructed[i][0])\n",
    "    axes[1, i].axis('off')\n",
    "plt.show()"
   ]
  },
  {
   "cell_type": "code",
   "execution_count": null,
   "metadata": {},
   "outputs": [],
   "source": [
    "# Random latent gen\n",
    "with torch.no_grad():\n",
    "    z = torch.randn(10, model.fc_mu.out_features).to(device)  # Random latent vectors\n",
    "    generated = model.decoder(z).view(-1, 1, 28, 28).cpu().numpy()\n",
    "\n",
    "# Plot generated images\n",
    "fig, axes = plt.subplots(1, 10, figsize=(15, 2))\n",
    "for i in range(10):\n",
    "    axes[i].imshow(generated[i][0])\n",
    "    axes[i].axis('off')\n",
    "plt.show()"
   ]
  },
  {
   "cell_type": "code",
   "execution_count": null,
   "metadata": {},
   "outputs": [],
   "source": [
    "# Get latent space representation\n",
    "model.eval()\n",
    "latents = []\n",
    "labels = []\n",
    "\n",
    "with torch.no_grad():\n",
    "    for images, label in train_loader:\n",
    "        images = images.view(images.size(0), -1).to(device)\n",
    "        _, mu, _ = model(images)\n",
    "        latents.append(mu)\n",
    "        labels.append(label)\n",
    "\n",
    "latents = torch.cat(latents).cpu().numpy()\n",
    "labels = torch.cat(labels).cpu().numpy()"
   ]
  },
  {
   "cell_type": "code",
   "execution_count": null,
   "metadata": {},
   "outputs": [],
   "source": [
    "# Latent space 2D vis\n",
    "\n",
    "# Ensure the latent dimension is 2 for visualization\n",
    "# assert model.fc_mu.out_features == 2, \"Latent dimension must be 2 for 2D visualization!\"\n",
    "\n",
    "# Plot the latent space\n",
    "plt.figure(figsize=(8, 6))\n",
    "\n",
    "scatter = plt.scatter(latents[:, 0], latents[:, 1], c=labels, cmap='tab10', s=10, alpha=0.7)\n",
    "\n",
    "plt.colorbar(scatter, label=\"Digit Label\")\n",
    "plt.title(\"Latent Space Visualization\")\n",
    "plt.xlabel(\"Latent Dimension 1\")\n",
    "plt.ylabel(\"Latent Dimension 2\")\n",
    "plt.show()"
   ]
  },
  {
   "cell_type": "code",
   "execution_count": null,
   "metadata": {},
   "outputs": [],
   "source": [
    "# Latent space 3D vis\n",
    "\n",
    "# Ensure the latent dimension is 3 for visualization\n",
    "# assert model.fc_mu.out_features == 3, \"Latent dimension must be 3 for 3D visualization!\"\n",
    "\n",
    "# Plot the 3D latent space\n",
    "fig = plt.figure(figsize=(10, 8))\n",
    "ax = fig.add_subplot(111, projection='3d')\n",
    "\n",
    "scatter = ax.scatter(latents[:, 0], latents[:, 1], latents[:, 2], c=labels, cmap='tab10', s=10, alpha=0.7)\n",
    "\n",
    "fig.colorbar(scatter, ax=ax, label=\"Digit Label\")\n",
    "ax.set_title(\"3D Latent Space Visualization\")\n",
    "ax.set_xlabel(\"Latent Dimension 1\")\n",
    "ax.set_ylabel(\"Latent Dimension 2\")\n",
    "ax.set_zlabel(\"Latent Dimension 3\")\n",
    "\n",
    "plt.show()"
   ]
  },
  {
   "cell_type": "code",
   "execution_count": null,
   "metadata": {},
   "outputs": [],
   "source": [
    "# take k samples of latents to speed up t-SNE\n",
    "# k = 4000  \n",
    "# indices = torch.randperm(latents.shape[0])[:k]\n",
    "# sampled_latents = latents[indices]\n",
    "# sampled_labels = labels[indices]\n",
    "sampled_latents = latents\n",
    "sampled_labels = labels"
   ]
  },
  {
   "cell_type": "code",
   "execution_count": null,
   "metadata": {},
   "outputs": [],
   "source": [
    "# Perform t-SNE on latent vectors\n",
    "tsne = TSNE(n_components=2, perplexity=30, random_state=42)\n",
    "latent_2d_tsne = tsne.fit_transform(sampled_latents)\n",
    "\n",
    "# Plot the t-SNE results\n",
    "plt.figure(figsize=(8, 8))\n",
    "\n",
    "scatter = plt.scatter(latent_2d_tsne[:, 0], latent_2d_tsne[:, 1], c=sampled_labels, cmap='tab10', s=5)\n",
    "\n",
    "plt.colorbar(scatter, label=\"Class\")\n",
    "plt.title(\"Latent Space Visualization with t-SNE\")\n",
    "plt.show()"
   ]
  },
  {
   "cell_type": "code",
   "execution_count": null,
   "metadata": {},
   "outputs": [],
   "source": [
    "# Perform t-SNE on latent vectors\n",
    "tsne = TSNE(n_components=3, perplexity=30, random_state=42)\n",
    "latent_3d_tsne = tsne.fit_transform(sampled_latents)\n",
    "\n",
    "# Plot the 3D latent space\n",
    "fig = plt.figure(figsize=(10, 8))\n",
    "ax = fig.add_subplot(111, projection='3d')\n",
    "\n",
    "scatter = ax.scatter(latent_3d_tsne[:, 0], latent_3d_tsne[:, 1], latent_3d_tsne[:, 2], c=sampled_labels, cmap='tab10', s=10, alpha=0.7)\n",
    "\n",
    "fig.colorbar(scatter, ax=ax, label=\"Digit Label\")\n",
    "ax.set_title(\"Latent Space Visualization with t-SNE\")\n",
    "\n",
    "plt.show()"
   ]
  }
 ],
 "metadata": {
  "kernelspec": {
   "display_name": ".venv",
   "language": "python",
   "name": "python3"
  },
  "language_info": {
   "codemirror_mode": {
    "name": "ipython",
    "version": 3
   },
   "file_extension": ".py",
   "mimetype": "text/x-python",
   "name": "python",
   "nbconvert_exporter": "python",
   "pygments_lexer": "ipython3",
   "version": "3.12.6"
  }
 },
 "nbformat": 4,
 "nbformat_minor": 2
}
