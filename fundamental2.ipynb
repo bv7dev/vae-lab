{
 "cells": [
  {
   "cell_type": "code",
   "execution_count": 1,
   "metadata": {},
   "outputs": [],
   "source": [
    "import numpy as np\n",
    "import tkinter as tk\n",
    "from tkinter import ttk\n",
    "\n",
    "root = tk.Tk()\n",
    "root.title(\"Slider Demo\")\n",
    "root.geometry(\"800x600\")\n",
    "\n",
    "# Main frame to hold all slider groups\n",
    "slider_frame = ttk.Frame(root)\n",
    "slider_frame.pack(side='left', padx=0, fill='y')\n",
    "\n",
    "# First slider group frame\n",
    "slider1_group = ttk.Frame(slider_frame)\n",
    "slider1_group.pack(side='left', fill='y', padx=10)\n",
    "\n",
    "slider1_label = ttk.Label(slider1_group, text=\"S\\nl\\ni\\nd\\ne\\nr\\n1\")\n",
    "slider1_label.pack(side='top', fill='x')\n",
    "slider1 = ttk.Scale(slider1_group, from_=0, to=100, orient='vertical', length=400)\n",
    "slider1.pack(side='top', fill='y')\n",
    "\n",
    "# Second slider group frame\n",
    "slider2_group = ttk.Frame(slider_frame)\n",
    "slider2_group.pack(side='left', fill='y', padx=10)\n",
    "\n",
    "slider2_label = ttk.Label(slider2_group, text=\"S\\nl\\ni\\nd\\ne\\nr\\n2\")\n",
    "slider2_label.pack(side='top', fill='x')\n",
    "slider2 = ttk.Scale(slider2_group, from_=0, to=100, orient='vertical', length=400)\n",
    "slider2.pack(side='top', fill='y')"
   ]
  },
  {
   "cell_type": "code",
   "execution_count": 2,
   "metadata": {},
   "outputs": [],
   "source": [
    "import matplotlib.pyplot as plt\n",
    "from matplotlib.backends.backend_tkagg import FigureCanvasTkAgg\n",
    "\n",
    "fig, ax = plt.subplots(figsize=(3, 3))\n",
    "x = np.linspace(0, 10, 100)\n",
    "y = np.linspace(0, 10, 100)\n",
    "X, Y = np.meshgrid(x, y)\n",
    "Z = X + Y\n",
    "\n",
    "img = ax.imshow(Z, cmap='viridis', aspect='equal')\n",
    "\n",
    "ax.set_xticks([])\n",
    "ax.set_yticks([])\n",
    "fig.subplots_adjust(left=0, right=1, top=1, bottom=0)\n",
    "\n",
    "# Embed the plot in tkinter\n",
    "canvas = FigureCanvasTkAgg(fig, master=root)\n",
    "canvas.draw()\n",
    "canvas.get_tk_widget().pack(pady=10)\n",
    "\n",
    "root.mainloop()\n",
    "plt.close()"
   ]
  }
 ],
 "metadata": {
  "kernelspec": {
   "display_name": ".venv",
   "language": "python",
   "name": "python3"
  },
  "language_info": {
   "codemirror_mode": {
    "name": "ipython",
    "version": 3
   },
   "file_extension": ".py",
   "mimetype": "text/x-python",
   "name": "python",
   "nbconvert_exporter": "python",
   "pygments_lexer": "ipython3",
   "version": "3.10.6"
  }
 },
 "nbformat": 4,
 "nbformat_minor": 2
}
